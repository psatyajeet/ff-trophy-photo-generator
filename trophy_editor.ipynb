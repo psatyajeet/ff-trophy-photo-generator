{
 "cells": [
  {
   "cell_type": "code",
   "execution_count": 1,
   "id": "a16c46a9",
   "metadata": {},
   "outputs": [],
   "source": [
    "from PIL import Image, ImageFont, ImageDraw"
   ]
  },
  {
   "cell_type": "code",
   "execution_count": 2,
   "id": "41f8d0d7",
   "metadata": {},
   "outputs": [],
   "source": [
    "def wrap_by_word(s, n):\n",
    "    a = s.split()\n",
    "    ret = ''\n",
    "    for i in range(0, len(a), n):\n",
    "        ret += ' '.join(a[i:i+n]) + '\\n'\n",
    "\n",
    "    return ret"
   ]
  },
  {
   "cell_type": "code",
   "execution_count": 3,
   "id": "6e519d61",
   "metadata": {},
   "outputs": [],
   "source": [
    "def add_text_to_trophy(year, team_name):\n",
    "    my_image = Image.open(\"trophy.png\")\n",
    "    image_editable = ImageDraw.Draw(my_image)\n",
    "    \n",
    "#     image_editable.text((240, 415), year, (0, 0, 0), font=font)\n",
    "    year_font = ImageFont.truetype('Roboto-Regular.ttf', 24)\n",
    "    image_editable.text((232, 125), year, (0, 0, 0), font=year_font)\n",
    "    \n",
    "    team_name_with_new_line = wrap_by_word(team_name, 2)\n",
    "    name_font = ImageFont.truetype('Roboto-Regular.ttf', 20)\n",
    "#     image_editable.text((200, 435), team_name, (0, 0, 0), font=font)\n",
    "    image_editable.text(\n",
    "        (255, 75), \n",
    "        team_name_with_new_line, \n",
    "        (0, 0, 0), \n",
    "        font=name_font, \n",
    "        align=\"center\", \n",
    "        anchor=\"ms\"\n",
    "    )\n",
    "    file_name = f\"winner_trophy_{year}.png\"\n",
    "    my_image.save(file_name)\n",
    "    return file_name\n",
    "\n",
    "def generate_gif_from_winners(token_id, winners):\n",
    "    trophy_images = [add_text_to_trophy(winner[0], winner[1]) for winner in winners]\n",
    "    im = Image.open(trophy_images[0])\n",
    "    im.save(f\"winner_trophy_{token_id}.gif\", save_all=True, append_images=[Image.open(img) for img in trophy_images[1:]], optimize=False, duration=1000, loop=0)"
   ]
  },
  {
   "cell_type": "code",
   "execution_count": 4,
   "id": "e3a9105d",
   "metadata": {},
   "outputs": [],
   "source": [
    "winners = [\n",
    "    ['2019', 'Satoshi\\'s Dice'],\n",
    "    ['2020', 'Dad’s Going Down'],\n",
    "    ['2021', 'Settlers of Saquon'],\n",
    "]"
   ]
  },
  {
   "cell_type": "code",
   "execution_count": 5,
   "id": "6c905486",
   "metadata": {},
   "outputs": [],
   "source": [
    "generate_gif_from_winners(1, winners)"
   ]
  },
  {
   "cell_type": "code",
   "execution_count": 6,
   "id": "39bbdaf6",
   "metadata": {},
   "outputs": [],
   "source": [
    "import json\n",
    "\n",
    "def read_json_from_file(filename):\n",
    "    f = open(filename)\n",
    "    data = json.load(f)\n",
    "\n",
    "    f.close()\n",
    "    \n",
    "    return data"
   ]
  },
  {
   "cell_type": "code",
   "execution_count": 7,
   "id": "db473737",
   "metadata": {},
   "outputs": [
    {
     "data": {
      "text/plain": [
       "True"
      ]
     },
     "execution_count": 7,
     "metadata": {},
     "output_type": "execute_result"
    }
   ],
   "source": [
    "from web3 import Web3\n",
    "\n",
    "w3 = Web3(Web3.HTTPProvider('http://127.0.0.1:8545'))\n",
    "w3.isConnected()"
   ]
  },
  {
   "cell_type": "code",
   "execution_count": 11,
   "id": "74a13790",
   "metadata": {},
   "outputs": [],
   "source": [
    "data = read_json_from_file('trophy_abi.json')\n",
    "contract_address = \"0x9aB0EA975A4F4B39C15B1579103C626308389a7E\"\n",
    "\n",
    "trophy = w3.eth.contract(address=Web3.toChecksumAddress(contract_address), abi=data['abi'])"
   ]
  },
  {
   "cell_type": "code",
   "execution_count": 12,
   "id": "99dc703c",
   "metadata": {},
   "outputs": [
    {
     "data": {
      "text/plain": [
       "'Fantasy Football Trophy'"
      ]
     },
     "execution_count": 12,
     "metadata": {},
     "output_type": "execute_result"
    }
   ],
   "source": [
    "trophy.functions.name().call()\n",
    "# trophy.functions.getWinnerName(1, 2021).call()"
   ]
  },
  {
   "cell_type": "code",
   "execution_count": null,
   "id": "a6b2a729",
   "metadata": {},
   "outputs": [],
   "source": []
  },
  {
   "cell_type": "code",
   "execution_count": null,
   "id": "fa138dbf",
   "metadata": {},
   "outputs": [],
   "source": []
  },
  {
   "cell_type": "code",
   "execution_count": null,
   "id": "0e328fbd",
   "metadata": {},
   "outputs": [],
   "source": []
  }
 ],
 "metadata": {
  "kernelspec": {
   "display_name": "Python 3 (ipykernel)",
   "language": "python",
   "name": "python3"
  },
  "language_info": {
   "codemirror_mode": {
    "name": "ipython",
    "version": 3
   },
   "file_extension": ".py",
   "mimetype": "text/x-python",
   "name": "python",
   "nbconvert_exporter": "python",
   "pygments_lexer": "ipython3",
   "version": "3.9.7"
  }
 },
 "nbformat": 4,
 "nbformat_minor": 5
}
