{
 "cells": [
  {
   "cell_type": "code",
   "execution_count": 1,
   "id": "e0179559",
   "metadata": {},
   "outputs": [],
   "source": [
    "%load_ext autoreload\n",
    "%autoreload 2"
   ]
  },
  {
   "cell_type": "code",
   "execution_count": 18,
   "id": "a16c46a9",
   "metadata": {},
   "outputs": [],
   "source": [
    "from PIL import Image, ImageFont, ImageDraw\n",
    "import asyncio"
   ]
  },
  {
   "cell_type": "code",
   "execution_count": 19,
   "id": "0d4d5e39",
   "metadata": {},
   "outputs": [],
   "source": [
    "from trophy_generator import read_json_from_file, generate_gif_from_winners\n",
    "from trophy_contract_interactor import TrophyContract"
   ]
  },
  {
   "cell_type": "code",
   "execution_count": 20,
   "id": "e3a9105d",
   "metadata": {},
   "outputs": [],
   "source": [
    "# winners = [\n",
    "#     ['2019', 'Satoshi\\'s Dice'],\n",
    "#     ['2020', 'Dad’s Going Down'],\n",
    "#     ['2021', 'Settlers of Saquon'],\n",
    "# ]"
   ]
  },
  {
   "cell_type": "code",
   "execution_count": 23,
   "id": "91b8614f",
   "metadata": {},
   "outputs": [
    {
     "name": "stdout",
     "output_type": "stream",
     "text": [
      "Bend it like Beckham\n",
      "Bitwise HODL\n"
     ]
    }
   ],
   "source": [
    "trophy = TrophyContract()\n",
    "# trophy.generate_trophy_gif(1)\n",
    "\n",
    "contract = trophy.get_contract()\n",
    "\n",
    "print(contract.functions.getWinnerName(1, 2021).call())\n",
    "print(contract.functions.getLeagueName(1).call())"
   ]
  },
  {
   "cell_type": "code",
   "execution_count": 36,
   "id": "e803dd5c",
   "metadata": {},
   "outputs": [],
   "source": [
    "# trophy.generate_new_trophy_for_new_WinnerNameSet(0)\n",
    "trophy.generate_trophy_for_token_id(1)"
   ]
  },
  {
   "cell_type": "code",
   "execution_count": null,
   "id": "d04d01c1",
   "metadata": {
    "scrolled": true
   },
   "outputs": [],
   "source": [
    "events = trophy.get_all_events_since_block(0)\n",
    "events"
   ]
  },
  {
   "cell_type": "code",
   "execution_count": null,
   "id": "e79c5336",
   "metadata": {},
   "outputs": [],
   "source": [
    "trophy.generate_trophy_gif(events[0].args.tokenId)\n",
    "# trophy.generate_trophy_gif(1)\n"
   ]
  },
  {
   "cell_type": "code",
   "execution_count": null,
   "id": "fd9fe976",
   "metadata": {},
   "outputs": [],
   "source": [
    "from web3 import Web3\n",
    "\n",
    "w3 = Web3(Web3.HTTPProvider('http://127.0.0.1:8545'))\n",
    "latest_block = w3.eth.blockNumber"
   ]
  },
  {
   "cell_type": "code",
   "execution_count": null,
   "id": "e14ec27d",
   "metadata": {},
   "outputs": [],
   "source": [
    "# define function to handle events and print to the console\n",
    "def handle_event(event):\n",
    "    print(Web3.toJSON(event))\n",
    "    # and whatever\n",
    "\n",
    "# asynchronous defined function to loop\n",
    "# this loop sets up an event filter and is looking for new entires for the \"WinnerNameSet\" event\n",
    "# this loop runs on a poll interval\n",
    "async def log_loop(event_filter, poll_interval):\n",
    "    while True:\n",
    "        for WinnerNameSet in event_filter.get_new_entries():\n",
    "            handle_event(WinnerNameSet)\n",
    "        await asyncio.sleep(poll_interval)   \n",
    "        \n",
    "event_filter = contract.events.WinnerNameSet.createFilter(fromBlock=latest_block)\n",
    "loop = asyncio.get_event_loop()\n",
    "\n",
    "try:\n",
    "    loop.run_until_complete(asyncio.gather(log_loop(event_filter, 2)))\n",
    "    \n",
    "except Exception as e:\n",
    "    print(e)\n",
    "    loop.stop()\n",
    "    loop.close()"
   ]
  },
  {
   "cell_type": "code",
   "execution_count": null,
   "id": "c0277a18",
   "metadata": {},
   "outputs": [],
   "source": []
  }
 ],
 "metadata": {
  "kernelspec": {
   "display_name": "Python 3 (ipykernel)",
   "language": "python",
   "name": "python3"
  },
  "language_info": {
   "codemirror_mode": {
    "name": "ipython",
    "version": 3
   },
   "file_extension": ".py",
   "mimetype": "text/x-python",
   "name": "python",
   "nbconvert_exporter": "python",
   "pygments_lexer": "ipython3",
   "version": "3.9.7"
  }
 },
 "nbformat": 4,
 "nbformat_minor": 5
}
