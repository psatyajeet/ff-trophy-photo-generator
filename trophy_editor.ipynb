{
 "cells": [
  {
   "cell_type": "code",
   "execution_count": 1,
   "id": "a16c46a9",
   "metadata": {},
   "outputs": [],
   "source": [
    "from PIL import Image, ImageFont, ImageDraw"
   ]
  },
  {
   "cell_type": "code",
   "execution_count": 2,
   "id": "1b376766",
   "metadata": {},
   "outputs": [],
   "source": [
    "from trophy_generator import read_json_from_file, generate_gif_from_winners\n",
    "from trophy_contract_interactor import TrophyContract"
   ]
  },
  {
   "cell_type": "code",
   "execution_count": null,
   "id": "e3a9105d",
   "metadata": {},
   "outputs": [],
   "source": [
    "# winners = [\n",
    "#     ['2019', 'Satoshi\\'s Dice'],\n",
    "#     ['2020', 'Dad’s Going Down'],\n",
    "#     ['2021', 'Settlers of Saquon'],\n",
    "# ]"
   ]
  },
  {
   "cell_type": "code",
   "execution_count": 3,
   "id": "229efe4a",
   "metadata": {},
   "outputs": [],
   "source": [
    "trophy = TrophyContract()\n",
    "trophy.generate_trophy_gif(1)"
   ]
  },
  {
   "cell_type": "code",
   "execution_count": 5,
   "id": "457f3c57",
   "metadata": {},
   "outputs": [],
   "source": []
  },
  {
   "cell_type": "code",
   "execution_count": null,
   "id": "d067a67a",
   "metadata": {},
   "outputs": [],
   "source": []
  }
 ],
 "metadata": {
  "kernelspec": {
   "display_name": "Python 3 (ipykernel)",
   "language": "python",
   "name": "python3"
  },
  "language_info": {
   "codemirror_mode": {
    "name": "ipython",
    "version": 3
   },
   "file_extension": ".py",
   "mimetype": "text/x-python",
   "name": "python",
   "nbconvert_exporter": "python",
   "pygments_lexer": "ipython3",
   "version": "3.9.7"
  }
 },
 "nbformat": 4,
 "nbformat_minor": 5
}
